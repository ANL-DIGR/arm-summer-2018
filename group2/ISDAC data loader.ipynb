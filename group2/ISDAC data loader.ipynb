{
 "cells": [
  {
   "cell_type": "markdown",
   "metadata": {},
   "source": [
    "## ISDAC data loader"
   ]
  },
  {
   "cell_type": "code",
   "execution_count": 168,
   "metadata": {},
   "outputs": [
    {
     "name": "stdout",
     "output_type": "stream",
     "text": [
      "Populating the interactive namespace from numpy and matplotlib\n"
     ]
    },
    {
     "name": "stderr",
     "output_type": "stream",
     "text": [
      "C:\\Users\\rjackson\\AppData\\Local\\Continuum\\Anaconda2\\envs\\pyart-2018\\lib\\site-packages\\IPython\\core\\magics\\pylab.py:160: UserWarning: pylab import has clobbered these variables: ['f', 'datetime', 'time', 'text']\n",
      "`%matplotlib` prevents importing * from pylab and numpy\n",
      "  \"\\n`%matplotlib` prevents importing * from pylab and numpy\"\n"
     ]
    }
   ],
   "source": [
    "import pandas as pd\n",
    "import xarray\n",
    "import glob\n",
    "import statistics\n",
    "from datetime import datetime\n",
    "from time import time\n",
    "%pylab inline"
   ]
  },
  {
   "cell_type": "markdown",
   "metadata": {},
   "source": [
    "Load bulk parameters from ISDAC"
   ]
  },
  {
   "cell_type": "code",
   "execution_count": 90,
   "metadata": {},
   "outputs": [],
   "source": [
    "data_path = 'data//convair//*'\n",
    "file_list = glob.glob(data_path)\n",
    "\n",
    "df_list = []\n",
    "for f in file_list:\n",
    "    flight_no = f[-13:-11]\n",
    "    # First, parse date out of second line of file\n",
    "    text = open(f)\n",
    "    text.readline()\n",
    "    date = datetime.datetime.strptime(text.readline()[13:24], \"%Y/%b/%d\")\n",
    "    text.close()\n",
    "    df = pd.read_csv(f, header=3, skiprows=[4,5], parse_dates=[1,2,3])\n",
    "    df['flight_number'] = int(flight_no)\n",
    "    times = []\n",
    "    for i in range(len(df[' HH'])):\n",
    "        times.append(datetime.datetime(year=date.year, month=date.month, day=date.day,\n",
    "                              hour=int(df[' HH'][i]), minute=int(df['MM'][i]), \n",
    "                                       second=int(df['SS'][i])))\n",
    "        \n",
    "    df['time'] = times\n",
    "    df.set_index('time')\n",
    "    df_list.append(df)\n",
    "\n",
    "# Concatenate\n",
    "isdac_df = pd.concat(df_list)\n",
    "isdac_df = isdac_df.set_index('time')\n",
    "\n",
    "# Handle missing values\n",
    "isdac_df = isdac_df.replace(-8.888, np.nan)\n",
    "del df_list"
   ]
  },
  {
   "cell_type": "code",
   "execution_count": 92,
   "metadata": {},
   "outputs": [
    {
     "data": {
      "text/plain": [
       "nan"
      ]
     },
     "execution_count": 92,
     "metadata": {},
     "output_type": "execute_result"
    }
   ],
   "source": [
    "isdac_df['  CVI_Eh'][0]"
   ]
  },
  {
   "cell_type": "code",
   "execution_count": 93,
   "metadata": {},
   "outputs": [],
   "source": [
    "CSI_TWC = isdac_df[' CSI_TCWC'] ## Ice water contents from CSI\n"
   ]
  },
  {
   "cell_type": "markdown",
   "metadata": {},
   "source": [
    "## Load Microphysics PI Product - Ice PSDs and phase\n",
    "\n",
    "We used different bins for different days depending on what probes were working. For this simple course we will keep it simple and just use the days where we had 126 ice bins (most of the days)"
   ]
  },
  {
   "cell_type": "code",
   "execution_count": 268,
   "metadata": {},
   "outputs": [
    {
     "name": "stdout",
     "output_type": "stream",
     "text": [
      "No phase information on 2008-04-08 00:00:00, not adding.\n",
      "<xarray.Dataset>\n",
      "Dimensions:      (ice_bin_length: 126, time: 259752)\n",
      "Coordinates:\n",
      "  * time         (time) datetime64[ns] 2008-04-01T19:59:41 ...\n",
      "Dimensions without coordinates: ice_bin_length\n",
      "Data variables:\n",
      "    ice_bin_min  (time, ice_bin_length) float64 2.0 3.0 4.0 5.0 6.0 7.0 8.0 ...\n",
      "    ice_bin_mid  (time, ice_bin_length) float64 2.5 3.5 4.5 5.5 6.5 7.5 8.5 ...\n",
      "    ice_bin_max  (time, ice_bin_length) float64 3.0 4.0 5.0 6.0 7.0 8.0 9.0 ...\n",
      "    ice_bin_dD   (time, ice_bin_length) float64 1.0 1.0 1.0 1.0 1.0 1.0 1.0 ...\n",
      "    N_i_binned   (time, ice_bin_length) float64 0.0 0.0 0.0 0.0 0.0 0.0 0.0 ...\n",
      "    phaseID      (time) float64 0.0 0.0 0.0 0.0 0.0 0.0 0.0 0.0 0.0 0.0 0.0 ...\n"
     ]
    }
   ],
   "source": [
    "microphysics_list = glob.glob('data//microphysics//*.nc')\n",
    "microphysics_list = sorted(microphysics_list)\n",
    "ds_list = []\n",
    "prev_date = datetime.datetime(2004,1,1,1,1)\n",
    "for files in microphysics_list:\n",
    "    microphysics_ds = xarray.open_dataset(files)\n",
    "    if(len(microphysics_ds.ice_bin_length) == 126):\n",
    "        # Since ice PSD bins vary vs time, we need to make a new xarray Dataset with \n",
    "        # ice PSDs varying in time for each day\n",
    "        # Also, convert the Time to pythonic datetimes\n",
    "\n",
    "        the_date = datetime.datetime.strptime(files[-14:-8], '%y%m%d')\n",
    "        \n",
    "        times = [datetime.datetime.strptime(\"%06d\" % tiempo, '%H%M%S') \n",
    "                 for tiempo in microphysics_ds.Time.values]\n",
    "        if(not the_date == prev_date):\n",
    "            first_hour = times[0].hour\n",
    "            \n",
    "        prev_date = the_date    \n",
    "        dt_list = []\n",
    "\n",
    "        for tiempo in times:\n",
    "            if(tiempo.hour < first_hour):\n",
    "                dt_list.append(datetime.datetime(year=the_date.year, month=the_date.month,\n",
    "                                     day=the_date.day+1, hour=tiempo.hour,\n",
    "                                     minute=tiempo.minute, second=tiempo.second)) \n",
    "            else:\n",
    "                dt_list.append(datetime.datetime(year=the_date.year, month=the_date.month,\n",
    "                                     day=the_date.day, hour=tiempo.hour,\n",
    "                                     minute=tiempo.minute, second=tiempo.second))\n",
    "\n",
    "        microphysics_ds['utctime'] = (('time'), dt_list)\n",
    "        microphysics_ds = microphysics_ds.set_index('utctime')\n",
    "        ice_bin_min = microphysics_ds.bin_ice_min\n",
    "        ice_bin_mid = microphysics_ds.bin_ice_mid\n",
    "        ice_bin_max = microphysics_ds.bin_ice_max\n",
    "        ice_bin_dD = microphysics_ds.bin_ice_dD\n",
    "        N_i_binned = microphysics_ds.N_i_binned\n",
    "        utctime = microphysics_ds['utctime']\n",
    "        try:\n",
    "            phaseID = microphysics_ds.phaseID\n",
    "            new_ds = xarray.Dataset({'ice_bin_min': ice_bin_min,\n",
    "                                     'ice_bin_mid': ice_bin_mid,\n",
    "                                     'ice_bin_max': ice_bin_max,\n",
    "                                     'ice_bin_dD': ice_bin_dD,\n",
    "                                     'N_i_binned': N_i_binned,\n",
    "                                     'phaseID': phaseID,\n",
    "                                     'time': utctime})\n",
    "            ds_list.append(new_ds)\n",
    "        except AttributeError:\n",
    "            print(\"No phase information on \" + str(the_date) + \", not adding.\")\n",
    "\n",
    "PSDs = xarray.concat(ds_list, dim='time')\n",
    "print(PSDs)"
   ]
  },
  {
   "cell_type": "code",
   "execution_count": 266,
   "metadata": {},
   "outputs": [
    {
     "data": {
      "text/plain": [
       "[<matplotlib.lines.Line2D at 0x1dc977825f8>]"
      ]
     },
     "execution_count": 266,
     "metadata": {},
     "output_type": "execute_result"
    },
    {
     "data": {
      "image/png": "[encoded data removed]",
      "text/plain": [
       "<Figure size 432x288 with 1 Axes>"
      ]
     },
     "metadata": {},
     "output_type": "display_data"
    }
   ],
   "source": [
    "microphysics_ds = xarray.open_dataset(microphysics_list[2])\n",
    "microphysics_ds.Time.plot()"
   ]
  },
  {
   "cell_type": "code",
   "execution_count": 270,
   "metadata": {},
   "outputs": [
    {
     "data": {
      "text/plain": [
       "[<matplotlib.lines.Line2D at 0x1dc99e84198>]"
      ]
     },
     "execution_count": 270,
     "metadata": {},
     "output_type": "execute_result"
    },
    {
     "data": {
      "image/png": "[encoded data removed]",
      "text/plain": [
       "<Figure size 432x288 with 1 Axes>"
      ]
     },
     "metadata": {},
     "output_type": "display_data"
    }
   ],
   "source": [
    "plt.plot(PSDs.time.values)"
   ]
  },
  {
   "cell_type": "markdown",
   "metadata": {},
   "source": [
    "## Do averaging and reindexing to same times"
   ]
  },
  {
   "cell_type": "code",
   "execution_count": 296,
   "metadata": {},
   "outputs": [],
   "source": [
    "CSI_TWC_10s = CSI_TWC.reindex(index=PSDs.time).resample('10s').mean()\n",
    "\n",
    "N_i_binned_10s = PSDs.N_i_binned.rolling(time=10).mean()\n",
    "phase_id_10s = PSDs.phaseID.reindex(time=N_i_binned_10s.time)\n",
    "bin_ice_mid = PSDs.bin_ice_mid.isel(time=1)\n",
    "bin_ice_min = PSDs.bin_ice_min.isel(time=1)\n",
    "bin_ice_max = PSDs.bin_ice_max.isel(time=1)\n",
    "bin_ice_dD = PSDs.bin_ice_dD.isel(time=1)"
   ]
  },
  {
   "cell_type": "code",
   "execution_count": 302,
   "metadata": {},
   "outputs": [
    {
     "data": {
      "text/plain": [
       "[<matplotlib.lines.Line2D at 0x1dc94507748>]"
      ]
     },
     "execution_count": 302,
     "metadata": {},
     "output_type": "execute_result"
    },
    {
     "data": {
      "image/png": "[encoded data removed]",
      "text/plain": [
       "<Figure size 432x288 with 1 Axes>"
      ]
     },
     "metadata": {},
     "output_type": "display_data"
    }
   ],
   "source": [
    "phase_id_10s.plot()"
   ]
  },
  {
   "cell_type": "markdown",
   "metadata": {},
   "source": [
    "# Have fun with your science here!"
   ]
  },
  {
   "cell_type": "code",
   "execution_count": null,
   "metadata": {
    "collapsed": true
   },
   "outputs": [],
   "source": []
  }
 ],
 "metadata": {
  "kernelspec": {
   "display_name": "Python [conda env:pyart-2018]",
   "language": "python",
   "name": "conda-env-pyart-2018-py"
  },
  "language_info": {
   "codemirror_mode": {
    "name": "ipython",
    "version": 3
   },
   "file_extension": ".py",
   "mimetype": "text/x-python",
   "name": "python",
   "nbconvert_exporter": "python",
   "pygments_lexer": "ipython3",
   "version": "3.6.4"
  }
 },
 "nbformat": 4,
 "nbformat_minor": 1
}
