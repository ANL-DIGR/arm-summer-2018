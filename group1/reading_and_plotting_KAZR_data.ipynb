{
 "cells": [
  {
   "cell_type": "markdown",
   "metadata": {},
   "source": [
    "# Reading and Plotting a KAZR Radar File"
   ]
  },
  {
   "cell_type": "markdown",
   "metadata": {},
   "source": [
    "Let us start we an introductory on what is Py-ART, then after we will begin to code away."
   ]
  },
  {
   "cell_type": "markdown",
   "metadata": {},
   "source": [
    "The Python ARM Radar Toolkit or Py-ART:\n",
    "\n",
    " * Py-ART is a Python module for plotting, correcting and analyzing weather radar data.\n",
    " * Development began to address the needs of ARM with the acquisition of a number of\n",
    "   new scanning cloud and precipitation radar as part of the American Recovery Act.\n",
    " * The project has since expanded to work with a variety of weather radars and a wider user\n",
    "   base including radar researchers and climate modelers.\n",
    " * The software has been released on GitHub as open source software under a BSD license.\n",
    "   Runs on Linux, OS X. It also runs on Windows with more limited functionality.\n",
    "   \n",
    "Contributions from others are always welcome."
   ]
  },
  {
   "cell_type": "markdown",
   "metadata": {},
   "source": [
    "What can Py-ART do?\n",
    "Py-ART can be used for a variety of tasks from basic plotting to more complex\n",
    "processing pipelines. Specific uses for Py-ART include:\n",
    "\n",
    " * Reading radar data in a variety of file formats.\n",
    " * Creating plots and visualization of radar data.\n",
    " * Correcting radar moments while in antenna coordinates, such as:\n",
    "    * Doppler unfolding/de-aliasing.\n",
    "    * Attenuation correction.\n",
    "    * Phase processing using a Linear Programming method.\n",
    " * Mapping data from one or multiple radars onto a Cartesian grid.\n",
    " * Performing retrievals.\n",
    " * Writing radial and Cartesian data to NetCDF files."
   ]
  },
  {
   "cell_type": "markdown",
   "metadata": {},
   "source": [
    "Py-ART essentials links:\n",
    " * Landing page, [arm-doe.github.io/pyart/](http://arm-doe.github.io/pyart/)\n",
    " * Documentation, [arm-doe.github.io/pyart-docs-travis/](http://arm-doe.github.io/pyart-docs-travis/)\n",
    " * Examples, [arm-doe.github.io/pyart/dev/auto_examples/index.html](http://arm-doe.github.io/pyart/dev/auto_examples/index.html)\n",
    " * Source Code, [github.com/ARM-DOE/pyart](https://github.com/ARM-DOE/pyart)\n",
    " * Mailing list, [groups.google.com/group/pyart-users/](http://groups.google.com/group/pyart-users/)\n",
    " * Issue Tracker, [github.com/ARM-DOE/pyart/issues](https://github.com/ARM-DOE/pyart/issues)"
   ]
  },
  {
   "cell_type": "markdown",
   "metadata": {},
   "source": [
    "Now that we know what Py-ART is, let us began coding."
   ]
  },
  {
   "cell_type": "markdown",
   "metadata": {},
   "source": [
    "First we want to import any modules that will be needed."
   ]
  },
  {
   "cell_type": "code",
   "execution_count": null,
   "metadata": {},
   "outputs": [],
   "source": [
    "import matplotlib.pyplot as plt\n",
    "import numpy as np\n",
    "import pyart"
   ]
  },
  {
   "cell_type": "markdown",
   "metadata": {},
   "source": [
    "When reading in a radar file, we can use the pyart.io.read module or the pyart.aux_io read module.\n",
    "pyart.io.read can read a variety of different radar formats, such as Cf/Radial, LASSEN and more, while pyart.aux_io expands on other file formats such as ARM KAZR and ODIM H5.\n",
    "The documentation on what formats can be read by Py-ART can be found here:\n",
    "\n",
    "http://arm-doe.github.io/pyart-docs-travis/user_reference/io.html\n",
    "\n",
    "http://arm-doe.github.io/pyart-docs-travis/user_reference/aux_io.html"
   ]
  },
  {
   "cell_type": "markdown",
   "metadata": {},
   "source": [
    "To read our radar KAZR file:"
   ]
  },
  {
   "cell_type": "code",
   "execution_count": null,
   "metadata": {},
   "outputs": [],
   "source": [
    "radar = pyart.aux_io.read_kazr('./data/sgpkazrgeC1.a1.20110520.000000.cdf')"
   ]
  },
  {
   "cell_type": "markdown",
   "metadata": {},
   "source": [
    "When reading a radar file, there are a few options to add, such as excluding radar fields. Excluding fields becomes useful when you are loading many radar files at a time and want to conserve memory and save time."
   ]
  },
  {
   "cell_type": "markdown",
   "metadata": {},
   "source": [
    "To see the full list of parameters, in a Jupyter Notebook, simply add a question mark after the function."
   ]
  },
  {
   "cell_type": "code",
   "execution_count": null,
   "metadata": {},
   "outputs": [],
   "source": [
    "pyart.aux_io.read_kazr?"
   ]
  },
  {
   "cell_type": "markdown",
   "metadata": {},
   "source": [
    "The radar object has a info method. This tells us about the Radar class in general. The info method describes the data in the KAZR file we have just read."
   ]
  },
  {
   "cell_type": "code",
   "execution_count": null,
   "metadata": {},
   "outputs": [],
   "source": [
    "print(radar.info())"
   ]
  },
  {
   "cell_type": "markdown",
   "metadata": {},
   "source": [
    "For a more compact view the the radar object info method:"
   ]
  },
  {
   "cell_type": "code",
   "execution_count": null,
   "metadata": {
    "scrolled": true
   },
   "outputs": [],
   "source": [
    "print(radar.info('compact'))"
   ]
  },
  {
   "cell_type": "markdown",
   "metadata": {},
   "source": [
    "The number of rays and gates in each ray is also available in the radar object."
   ]
  },
  {
   "cell_type": "code",
   "execution_count": null,
   "metadata": {},
   "outputs": [],
   "source": [
    "print(radar.nrays)\n",
    "print(radar.ngates)"
   ]
  },
  {
   "cell_type": "markdown",
   "metadata": {},
   "source": [
    "Other information about the radar volume is stored in dictionary attributes, with the numerical data stored under the 'data' key."
   ]
  },
  {
   "cell_type": "code",
   "execution_count": null,
   "metadata": {},
   "outputs": [],
   "source": [
    "print(radar.azimuth)"
   ]
  },
  {
   "cell_type": "code",
   "execution_count": null,
   "metadata": {},
   "outputs": [],
   "source": [
    "print(radar.latitude)  "
   ]
  },
  {
   "cell_type": "code",
   "execution_count": null,
   "metadata": {},
   "outputs": [],
   "source": [
    "print(radar.time)"
   ]
  },
  {
   "cell_type": "markdown",
   "metadata": {},
   "source": [
    "Some data may not be available in the original file or not applicable to the volume. When this data is missing the attribute is set to: None"
   ]
  },
  {
   "cell_type": "code",
   "execution_count": null,
   "metadata": {},
   "outputs": [],
   "source": [
    "radar.target_scan_rate is None"
   ]
  },
  {
   "cell_type": "markdown",
   "metadata": {},
   "source": [
    "In the radar object are fields. This is where data such as reflectivity and velocity are stored.\n",
    "To see what fields are present we can add the fields and keys additions to the variable where the\n",
    "radar object is stored."
   ]
  },
  {
   "cell_type": "code",
   "execution_count": null,
   "metadata": {},
   "outputs": [],
   "source": [
    "print(radar.fields.keys())"
   ]
  },
  {
   "cell_type": "markdown",
   "metadata": {},
   "source": [
    "The fields are stored in a dictionary, each containing coordinates, units and more.\n",
    "All can be accessed by just adding the fields addition to the radar object variable.\n",
    "For an individual field, we add a string in brackets after the fields addition to see\n",
    "the contents of that field."
   ]
  },
  {
   "cell_type": "code",
   "execution_count": null,
   "metadata": {},
   "outputs": [],
   "source": [
    "print(radar.fields['reflectivity_copol'])"
   ]
  },
  {
   "cell_type": "markdown",
   "metadata": {},
   "source": [
    "We can go even further in the dictionary and a see within the reflectivity copolar field by accessing the units or data itself.\n",
    "For example add the string data in brackets after the reflectivity string bracket."
   ]
  },
  {
   "cell_type": "code",
   "execution_count": null,
   "metadata": {},
   "outputs": [],
   "source": [
    "print(radar.fields['reflectivity_copol']['data'])"
   ]
  },
  {
   "cell_type": "code",
   "execution_count": null,
   "metadata": {},
   "outputs": [],
   "source": [
    "print(radar.fields['reflectivity_copol']['data'][300, 2])"
   ]
  },
  {
   "cell_type": "markdown",
   "metadata": {},
   "source": [
    "Now that we have loaded the data and inspected it, the next logical thing to do is to visualize the data! Py-ART's visualiation functionality is done through the objects in the pyart.graph module: \n",
    "\n",
    "http://arm-doe.github.io/pyart-docs-travis/user_reference/graph.html\n",
    "\n",
    "In Py-ART there are 5 visualization classes in pyart.graph:\n",
    "\n",
    "* RadarDisplay\t                            \n",
    "* RadarMapDisplay\t                        \n",
    "* AirborneRadarDisplay\t                    \n",
    "* RadarMapDisplayCartopy                    \n",
    "\n",
    "Plotting grid data\n",
    "* GridMapDisplay\n",
    "\n",
    "For the examples in this tutorial, we will be using RadarDisplay. Lets first see what type of scan type our radar data is."
   ]
  },
  {
   "cell_type": "code",
   "execution_count": null,
   "metadata": {},
   "outputs": [],
   "source": [
    "print(radar.scan_type)"
   ]
  },
  {
   "cell_type": "markdown",
   "metadata": {},
   "source": [
    "Now that we know the radar scan type, we can choose which display function to use, in this case vpt. Py-ART also how plotting functions for ppi and rhi."
   ]
  },
  {
   "cell_type": "markdown",
   "metadata": {},
   "source": [
    "To display a radar image, we create a figure first and then create a RadarDisplay object from the radar. The following example displays the reflectivity copolar from the radar:"
   ]
  },
  {
   "cell_type": "code",
   "execution_count": null,
   "metadata": {},
   "outputs": [],
   "source": [
    "fig = plt.figure(figsize=[12, 8])\n",
    "display = pyart.graph.RadarDisplay(radar)\n",
    "display.plot_vpt('reflectivity_copol',\n",
    "                 vmin=-8, vmax=64,\n",
    "                 cmap='pyart_HomeyerRainbow')\n",
    "plt.show()"
   ]
  },
  {
   "cell_type": "markdown",
   "metadata": {},
   "source": [
    "You can change many parameters in the graph by changing the arguments to plot_vpt. As you can recall from earlier. simply view these arguments in a Jupyter notebook by typing:"
   ]
  },
  {
   "cell_type": "code",
   "execution_count": null,
   "metadata": {},
   "outputs": [],
   "source": [
    "display.plot_vpt?"
   ]
  },
  {
   "cell_type": "markdown",
   "metadata": {},
   "source": [
    "Let's display velocity instead of reflectivity, but first let's get an idea of the nyquist velocity to better set our vmin and vmax of our plot. We can do this by accessing the radar object's intrument parameters."
   ]
  },
  {
   "cell_type": "code",
   "execution_count": null,
   "metadata": {},
   "outputs": [],
   "source": [
    "print(radar.instrument_parameters['nyquist_velocity']['data'])"
   ]
  },
  {
   "cell_type": "code",
   "execution_count": null,
   "metadata": {},
   "outputs": [],
   "source": [
    "fig = plt.figure(figsize=[12, 8])\n",
    "display = pyart.graph.RadarDisplay(radar)\n",
    "display.plot_vpt('mean_doppler_velocity_copol',\n",
    "                 vmin=-6*1.5, vmax=6*1.5)\n",
    "plt.show()"
   ]
  },
  {
   "cell_type": "markdown",
   "metadata": {},
   "source": [
    "Py-ART also has the option to use GateFilters. A GateFilter allows for the masking of data points based om certain conditions. For example if we want to mask reflectivity data points when they are above or below a specific threshold, we can do:"
   ]
  },
  {
   "cell_type": "code",
   "execution_count": null,
   "metadata": {},
   "outputs": [],
   "source": [
    "gatefilter = pyart.correct.GateFilter(radar)\n",
    "gatefilter.exclude_below('reflectivity_copol', 0)\n",
    "gatefilter.exclude_above('reflectivity_copol', 40)"
   ]
  },
  {
   "cell_type": "markdown",
   "metadata": {},
   "source": [
    "We can now plot reflectivity copolar again, but this time with the added gatefilter as an argument in the plot_vpt function."
   ]
  },
  {
   "cell_type": "code",
   "execution_count": null,
   "metadata": {},
   "outputs": [],
   "source": [
    "fig = plt.figure(figsize=[12, 8])\n",
    "display = pyart.graph.RadarDisplay(radar)\n",
    "display.plot_vpt('reflectivity_copol',\n",
    "                 vmin=-8, vmax=64, gatefilter=gatefilter,\n",
    "                 cmap='pyart_HomeyerRainbow')\n",
    "plt.show()"
   ]
  }
 ],
 "metadata": {
  "kernelspec": {
   "display_name": "Python 3",
   "language": "python",
   "name": "python3"
  },
  "language_info": {
   "codemirror_mode": {
    "name": "ipython",
    "version": 3
   },
   "file_extension": ".py",
   "mimetype": "text/x-python",
   "name": "python",
   "nbconvert_exporter": "python",
   "pygments_lexer": "ipython3",
   "version": "3.6.5"
  }
 },
 "nbformat": 4,
 "nbformat_minor": 2
}
