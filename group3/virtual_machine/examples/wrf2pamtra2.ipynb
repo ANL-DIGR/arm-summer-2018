{
 "cells": [
  {
   "cell_type": "code",
   "execution_count": 1,
   "metadata": {},
   "outputs": [],
   "source": [
    "import collections\n",
    "\n",
    "import xarray as xr\n",
    "import numpy as np\n",
    "import matplotlib.pyplot as plt\n",
    "import scipy\n",
    "import pamtra2\n",
    "\n",
    "try:\n",
    "    %matplotlib inline\n",
    "except:\n",
    "    pass\n"
   ]
  },
  {
   "cell_type": "markdown",
   "metadata": {},
   "source": [
    "# Define functions & import WRF"
   ]
  },
  {
   "cell_type": "code",
   "execution_count": 2,
   "metadata": {},
   "outputs": [],
   "source": [
    "wrfHydrometeors = ['CLOUD','RAIN','ICE','SNOW']#,'GRAUP']\n",
    "\n",
    "wrfRenameDim = {\n",
    "    'bottom_top_stag':'level',\n",
    "    'bottom_top':'layer',\n",
    "    'Time' : 'time',\n",
    "}\n",
    "\n",
    "\n",
    "def linLevel2layer(var):\n",
    "    var= (var.isel(level=np.s_[:-1]) +  0.5 * var.diff('level'))\n",
    "    return var.rename({'level':'layer'})\n",
    "\n",
    "\n",
    "from pamtra2.libs.meteo_si.constants import Rair"
   ]
  },
  {
   "cell_type": "code",
   "execution_count": 3,
   "metadata": {},
   "outputs": [],
   "source": [
    "wrfDat = xr.open_dataset('../data/WRF/2017-08-25/Barrow.nc')\n",
    "#fix time\n",
    "wrfDat['Time'] = [np.datetime64(str(x).replace('_','T').replace(\"'\",'').replace(\"b\",''))\n",
    "                          for x in wrfDat.Times.values]\n",
    "wrfDat = wrfDat.drop('Times')\n",
    "wrfDat = wrfDat.rename(wrfRenameDim)\n",
    "\n",
    "wrfDat = wrfDat.squeeze()"
   ]
  },
  {
   "cell_type": "markdown",
   "metadata": {},
   "source": [
    "# Create pamtra2 object and fill atmospheric profiles with WRF values"
   ]
  },
  {
   "cell_type": "code",
   "execution_count": 4,
   "metadata": {},
   "outputs": [],
   "source": [
    "additionalDims = collections.OrderedDict()\n",
    "additionalDims['time'] = wrfDat['time'].values\n",
    "nHeights = len(wrfDat.layer)\n",
    "\n",
    "pam2 = pamtra2.pamtra2(\n",
    "    nLayer=nHeights,\n",
    "    hydrometeors=wrfHydrometeors,\n",
    "    additionalDims = additionalDims,\n",
    "    frequencies = [35e9],\n",
    ")\n",
    "\n",
    "\n"
   ]
  },
  {
   "cell_type": "code",
   "execution_count": 5,
   "metadata": {},
   "outputs": [
    {
     "data": {
      "text/plain": [
       "<xarray.customProfile>\n",
       "Dimensions:              (frequency: 1, hydrometeor: 4, layer: 39, time: 41)\n",
       "Coordinates:\n",
       "  * time                 (time) datetime64[ns] 2017-08-25 ...\n",
       "  * layer                (layer) int64 0 1 2 3 4 5 6 7 8 9 10 11 12 13 14 15 ...\n",
       "  * hydrometeor          (hydrometeor) <U5 'CLOUD' 'RAIN' 'ICE' 'SNOW'\n",
       "  * frequency            (frequency) float64 3.5e+10\n",
       "Data variables:\n",
       "    height               (time, layer) float64 nan nan nan nan nan nan nan ...\n",
       "    temperature          (time, layer) float64 nan nan nan nan nan nan nan ...\n",
       "    pressure             (time, layer) float64 nan nan nan nan nan nan nan ...\n",
       "    relativeHumidity     (time, layer) float64 nan nan nan nan nan nan nan ...\n",
       "    horizontalWind       (time, layer) float64 nan nan nan nan nan nan nan ...\n",
       "    verticalWind         (time, layer) float64 nan nan nan nan nan nan nan ...\n",
       "    eddyDissipationRate  (time, layer) float64 nan nan nan nan nan nan nan ...\n",
       "    hydrometeorContent   (time, layer, hydrometeor) float64 nan nan nan nan ...\n",
       "    wavelength           (frequency) float64 0.008565"
      ]
     },
     "execution_count": 5,
     "metadata": {},
     "output_type": "execute_result"
    }
   ],
   "source": [
    "pam2.profile"
   ]
  },
  {
   "cell_type": "code",
   "execution_count": 6,
   "metadata": {},
   "outputs": [
    {
     "data": {
      "text/plain": [
       "<xarray.customProfile>\n",
       "Dimensions:                (frequency: 1, hydrometeor: 4, layer: 39, time: 41)\n",
       "Coordinates:\n",
       "  * time                   (time) datetime64[ns] 2017-08-25 ...\n",
       "  * layer                  (layer) int64 0 1 2 3 4 5 6 7 8 9 10 11 12 13 14 ...\n",
       "  * hydrometeor            (hydrometeor) <U5 'CLOUD' 'RAIN' 'ICE' 'SNOW'\n",
       "  * frequency              (frequency) float64 3.5e+10\n",
       "Data variables:\n",
       "    height                 (time, layer) float64 17.22 45.41 81.28 127.4 ...\n",
       "    temperature            (time, layer) float64 264.9 264.5 264.0 263.6 ...\n",
       "    pressure               (time, layer) float64 1.009e+05 1.005e+05 ...\n",
       "    relativeHumidity       (time, layer) float64 192.7 195.8 199.6 202.8 ...\n",
       "    horizontalWind         (time, layer) float64 6.275 6.559 6.92 7.12 7.459 ...\n",
       "    verticalWind           (time, layer) float64 nan nan nan nan nan nan nan ...\n",
       "    eddyDissipationRate    (time, layer) float64 0.0001 0.0001 0.0001 0.0001 ...\n",
       "    hydrometeorContent     (time, layer, hydrometeor) float64 0.0 0.0 0.0 ...\n",
       "    wavelength             (frequency) float64 0.008565\n",
       "    airDensity             (time, layer) float64 1.322 1.32 1.317 1.311 ...\n",
       "    hydrometeorNumberConc  (time, layer, hydrometeor) float64 0.0 0.0 0.0 ...\n",
       "    heightBinDepth         (time, layer) float64 28.2 32.03 41.0 52.54 66.63 ...\n",
       "    dryAirDensity          (time, layer) float64 1.322 1.32 1.317 1.311 ...\n",
       "    dynamicViscosity       (time, layer) float64 1.676e-05 1.674e-05 ...\n",
       "    kinematicViscosity     (time, layer) float64 1.267e-05 1.268e-05 ...\n",
       "    specificHumidity       (time, layer) float64 0.003922 0.003876 0.003817 ...\n",
       "    absoluteHumidity       (time, layer) float64 0.005192 0.00512 0.005029 ...\n",
       "    waterVaporPressure     (time, layer) float64 634.7 625.0 612.8 603.2 ..."
      ]
     },
     "execution_count": 6,
     "metadata": {},
     "output_type": "execute_result"
    }
   ],
   "source": [
    "\n",
    "heights = linLevel2layer((wrfDat[\"PH\"]+wrfDat[\"PHB\"])/9.81)\n",
    "pressure = (wrfDat[\"P\"] + wrfDat[\"PB\"])\n",
    "\n",
    "\n",
    "Cp = 7.*Rair/2.\n",
    "RdCp =  Rair/Cp\n",
    "p0 = 100000\n",
    "T0 = wrfDat[\"T00\"]\n",
    "temperature = (wrfDat[\"T\"] + T0)*(pressure/p0)**RdCp # potential temp to temp\n",
    "temperature = temperature\n",
    "\n",
    "horizontalWind = np.sqrt(wrfDat.V**2 + wrfDat.U**2)\n",
    "\n",
    "mixingRatio = wrfDat.QVAPOR\n",
    "specHum = mixingRatio/(1+mixingRatio)\n",
    "relHum = pamtra2.libs.meteo_si.humidity.q2rh(specHum,temperature,pressure) * 100\n",
    "\n",
    "pam2.profile.height[:] = heights\n",
    "pam2.profile.temperature[:] = temperature\n",
    "pam2.profile.relativeHumidity[:] = relHum # >200%?? but hardly relevant for radar simulator...\n",
    "pam2.profile.pressure[:] = pressure\n",
    "pam2.profile.eddyDissipationRate[:] = 1e-4 # not included in model output, \n",
    "pam2.profile.horizontalWind[:] =horizontalWind\n",
    "\n",
    "pam2.addAirDensity()\n",
    "\n",
    "pam2.profile['hydrometeorNumberConc'] = xr.zeros_like(pam2.profile.hydrometeorContent)\n",
    "\n",
    "for hh, hydro in enumerate(wrfHydrometeors):\n",
    "    \n",
    "    pam2.profile.hydrometeorContent.values[...,hh] = wrfDat['Q%s'%hydro] * pam2.profile.airDensity\n",
    "    if hydro not in ['CLOUD','GRAUP']:\n",
    "        pam2.profile.hydrometeorNumberConc.values[...,hh] = wrfDat['QN%s'%hydro] * pam2.profile.airDensity\n",
    "    elif hydro == 'CLOUD':\n",
    "        cond = wrfDat['Q%s'%hydro]>0\n",
    "        pam2.profile.hydrometeorNumberConc.values[cond,hh] = 2.5e8\n",
    "\n",
    "pam2.addMissingVariables()\n",
    "\n",
    "\n",
    "pam2.profile\n"
   ]
  },
  {
   "cell_type": "markdown",
   "metadata": {},
   "source": [
    "# define hydrometeors\n",
    "## cloud droplets"
   ]
  },
  {
   "cell_type": "code",
   "execution_count": 7,
   "metadata": {},
   "outputs": [
    {
     "name": "stdout",
     "output_type": "stream",
     "text": [
      "sizeBounds <function linspaceBounds at 0x7f13c6408d90>\n",
      "callable\n",
      "sizeCenter <function boundsToMid at 0x7f13c6408ea0>\n",
      "callable\n",
      "sizeBoundsWidth <function boundsWidth at 0x7f13c6408f28>\n",
      "callable\n",
      "aspectRatio 1.0\n",
      "not callable 1.0\n",
      "density 1000.0\n",
      "not callable 1000.0\n",
      "mass <function ellipsoid at 0x7f13c640d2f0>\n",
      "callable\n",
      "crossSectionArea <function sphere at 0x7f13c640d9d8>\n",
      "callable\n",
      "sizeDistribution <function WRF_cloud_N at 0x7f13cc5360d0>\n",
      "callable\n",
      "relativePermittivity <function turner_kneifel_cadeddu at 0x7f13c668a0d0>\n",
      "callable\n",
      "scattering <function Rayleigh at 0x7f13c640de18>\n",
      "callable\n",
      "fallVelocity <function khvorostyanov01_drops at 0x7f13c640df28>\n",
      "callable\n",
      "nBins 50\n",
      "not callable 50\n",
      "Dmin 1e-06\n",
      "not callable 1e-06\n",
      "Dmax 0.008\n",
      "not callable 0.008\n"
     ]
    },
    {
     "name": "stderr",
     "output_type": "stream",
     "text": [
      "/home/vagrant/miniconda/lib/python3.6/_collections_abc.py:720: FutureWarning: iteration over an xarray.Dataset will change in xarray v0.11 to only include data variables, not coordinates. Iterate over the Dataset.variables property instead to preserve existing behavior in a forwards compatible manner.\n",
      "  yield from self._mapping\n"
     ]
    },
    {
     "data": {
      "text/plain": [
       "<pamtra2.hydrometeors.core.softEllipsoidFixedDensity at 0x7f13c18e4cf8>"
      ]
     },
     "execution_count": 7,
     "metadata": {},
     "output_type": "execute_result"
    }
   ],
   "source": [
    "def WRF_cloud_N(\n",
    "    sizeCenter,\n",
    "    hydrometeorContent,\n",
    "    hydrometeorNumberConc,\n",
    "    airDensity,\n",
    "    temperature,\n",
    "    pressure\n",
    "):\n",
    "    '''\n",
    "    Estimate the PSD in accordance with the WRF Morrison double moment scheme. \n",
    "    '''\n",
    "    RHOW  = 997.;\n",
    "    CONS26 = np.pi/6*RHOW\n",
    "    QCLOUD = hydrometeorContent /airDensity\n",
    "    QNCLOUD = hydrometeorNumberConc/airDensity\n",
    "\n",
    "    DUM=pressure/(287.15*temperature)\n",
    "    PGAM = 0.0005714*(QNCLOUD/1.e6*DUM)+0.2714\n",
    "    PGAM = 1.0/(PGAM*PGAM) - 1.0\n",
    "    PGAM.values[PGAM.values<2] = 2\n",
    "    PGAM.values[PGAM.values>10] = 10\n",
    "\n",
    "    LAMC = (CONS26*QNCLOUD*scipy.special.gamma(PGAM+4)/QCLOUD/scipy.special.gamma(PGAM+1))**(1./3.)\n",
    "    N0C  = QNCLOUD*LAMC\n",
    "\n",
    "    f = airDensity*N0C * (np.exp(-LAMC*sizeCenter)) \n",
    "    return f\n",
    "\n",
    "\n",
    "\n",
    "pam2.describeHydrometeor(\n",
    "    pamtra2.hydrometeors.softEllipsoidFixedDensity,\n",
    "    name = 'CLOUD', #or None, then str(index)\n",
    "    nBins =50,\n",
    "    sizeBounds = pamtra2.hydrometeors.size.linspaceBounds, \n",
    "    sizeCenter = pamtra2.hydrometeors.size.boundsToMid,\n",
    "    sizeBoundsWidth = pamtra2.hydrometeors.size.boundsWidth,\n",
    "    #add custom function here:\n",
    "    sizeDistribution = WRF_cloud_N, \n",
    "    aspectRatio = 1.0,\n",
    "    mass = pamtra2.hydrometeors.mass.ellipsoid,\n",
    "    density = pamtra2.hydrometeors.density.water,\n",
    "    crossSectionArea = pamtra2.hydrometeors.crossSectionArea.sphere,\n",
    "    relativePermittivity = pamtra2.libs.refractiveIndex.water.turner_kneifel_cadeddu, \n",
    "    scattering = pamtra2.hydrometeors.scattering.Rayleigh,\n",
    "    fallVelocity = pamtra2.hydrometeors.fallVelocity.khvorostyanov01_drops,\n",
    "    Dmin  = 1e-6,\n",
    "    Dmax  = 0.008,\n",
    "    useFuncArgDefaults = True,\n",
    ")\n",
    "\n"
   ]
  },
  {
   "cell_type": "markdown",
   "metadata": {},
   "source": [
    "## rain"
   ]
  },
  {
   "cell_type": "code",
   "execution_count": 8,
   "metadata": {},
   "outputs": [
    {
     "name": "stdout",
     "output_type": "stream",
     "text": [
      "sizeBounds <function linspaceBounds at 0x7f13c6408d90>\n",
      "callable\n",
      "sizeCenter <function boundsToMid at 0x7f13c6408ea0>\n",
      "callable\n",
      "sizeBoundsWidth <function boundsWidth at 0x7f13c6408f28>\n",
      "callable\n",
      "aspectRatio 1.0\n",
      "not callable 1.0\n",
      "density 1000.0\n",
      "not callable 1000.0\n",
      "mass <function ellipsoid at 0x7f13c640d2f0>\n",
      "callable\n",
      "crossSectionArea <function sphere at 0x7f13c640d9d8>\n",
      "callable\n",
      "sizeDistribution <function WRF_rain_N at 0x7f13c186a8c8>\n",
      "callable\n",
      "relativePermittivity <function turner_kneifel_cadeddu at 0x7f13c668a0d0>\n",
      "callable\n",
      "scattering <function Rayleigh at 0x7f13c640de18>\n",
      "callable\n",
      "fallVelocity <function khvorostyanov01_drops at 0x7f13c640df28>\n",
      "callable\n",
      "nBins 50\n",
      "not callable 50\n",
      "Dmin 1e-06\n",
      "not callable 1e-06\n",
      "Dmax 0.008\n",
      "not callable 0.008\n"
     ]
    },
    {
     "name": "stderr",
     "output_type": "stream",
     "text": [
      "/home/vagrant/miniconda/lib/python3.6/_collections_abc.py:720: FutureWarning: iteration over an xarray.Dataset will change in xarray v0.11 to only include data variables, not coordinates. Iterate over the Dataset.variables property instead to preserve existing behavior in a forwards compatible manner.\n",
      "  yield from self._mapping\n"
     ]
    },
    {
     "data": {
      "text/plain": [
       "<pamtra2.hydrometeors.core.softEllipsoidFixedDensity at 0x7f13c1929588>"
      ]
     },
     "execution_count": 8,
     "metadata": {},
     "output_type": "execute_result"
    }
   ],
   "source": [
    "def WRF_rain_N(\n",
    "    sizeCenter,\n",
    "    hydrometeorContent,\n",
    "    hydrometeorNumberConc,\n",
    "    airDensity,\n",
    "):\n",
    "    '''\n",
    "    Estimate the PSD in accordance with the WRF Morrison double moment scheme. \n",
    "    '''\n",
    "    RHOW  = 997.\n",
    "    QRAIN = hydrometeorContent /airDensity\n",
    "    QNRAIN = hydrometeorNumberConc/airDensity\n",
    "\n",
    "    LAMR  = (np.pi*RHOW*QNRAIN/QRAIN)**(1/3.)\n",
    "    N0R   =   QNRAIN * LAMR\n",
    "\n",
    "    f = airDensity*N0R * (np.exp(-LAMR*sizeCenter)) \n",
    "    return f\n",
    "\n",
    "\n",
    "pam2.describeHydrometeor(\n",
    "    pamtra2.hydrometeors.softEllipsoidFixedDensity,\n",
    "    name = 'RAIN', #or None, then str(index)\n",
    "    nBins =50,\n",
    "    sizeBounds = pamtra2.hydrometeors.size.linspaceBounds, \n",
    "    sizeCenter = pamtra2.hydrometeors.size.boundsToMid,\n",
    "    sizeBoundsWidth = pamtra2.hydrometeors.size.boundsWidth,\n",
    "    #add custom function here:\n",
    "    sizeDistribution = WRF_rain_N, \n",
    "    aspectRatio = 1.0,\n",
    "    mass = pamtra2.hydrometeors.mass.ellipsoid,\n",
    "    density = pamtra2.hydrometeors.density.water,\n",
    "    crossSectionArea = pamtra2.hydrometeors.crossSectionArea.sphere,\n",
    "    relativePermittivity = pamtra2.libs.refractiveIndex.water.turner_kneifel_cadeddu, \n",
    "    scattering = pamtra2.hydrometeors.scattering.Rayleigh,\n",
    "    fallVelocity = pamtra2.hydrometeors.fallVelocity.khvorostyanov01_drops,\n",
    "    Dmin  = 1e-6,\n",
    "    Dmax  = 0.008,\n",
    "    useFuncArgDefaults = True,\n",
    ")"
   ]
  },
  {
   "cell_type": "markdown",
   "metadata": {},
   "source": [
    "## ice"
   ]
  },
  {
   "cell_type": "code",
   "execution_count": 9,
   "metadata": {},
   "outputs": [
    {
     "name": "stdout",
     "output_type": "stream",
     "text": [
      "sizeBounds <function linspaceBounds at 0x7f13c6408d90>\n",
      "callable\n",
      "sizeCenter <function boundsToMid at 0x7f13c6408ea0>\n",
      "callable\n",
      "sizeBoundsWidth <function boundsWidth at 0x7f13c6408f28>\n",
      "callable\n",
      "aspectRatio 1.0\n",
      "not callable 1.0\n",
      "density 500\n",
      "not callable 500\n",
      "mass <function ellipsoid at 0x7f13c640d2f0>\n",
      "callable\n",
      "crossSectionArea <function sphere at 0x7f13c640d9d8>\n",
      "callable\n",
      "sizeDistribution <function WRF_ice_N at 0x7f13c182d048>\n",
      "callable\n",
      "relativePermittivity <function eps at 0x7f13c6676ae8>\n",
      "callable\n",
      "scattering <function Rayleigh at 0x7f13c640de18>\n",
      "callable\n",
      "fallVelocity <function heymsfield10_particles at 0x7f13c640dea0>\n",
      "callable\n",
      "nBins 50\n",
      "not callable 50\n",
      "Dmin 1e-06\n",
      "not callable 1e-06\n",
      "Dmax 0.0404\n",
      "not callable 0.0404\n",
      "matzlerCheckTemperature False\n",
      "not callable False\n"
     ]
    },
    {
     "name": "stderr",
     "output_type": "stream",
     "text": [
      "/home/vagrant/miniconda/lib/python3.6/_collections_abc.py:720: FutureWarning: iteration over an xarray.Dataset will change in xarray v0.11 to only include data variables, not coordinates. Iterate over the Dataset.variables property instead to preserve existing behavior in a forwards compatible manner.\n",
      "  yield from self._mapping\n"
     ]
    },
    {
     "data": {
      "text/plain": [
       "<pamtra2.hydrometeors.core.softEllipsoidFixedDensity at 0x7f13c183b0b8>"
      ]
     },
     "execution_count": 9,
     "metadata": {},
     "output_type": "execute_result"
    }
   ],
   "source": [
    "def WRF_ice_N(\n",
    "    sizeCenter,\n",
    "    hydrometeorContent,\n",
    "    hydrometeorNumberConc,\n",
    "    airDensity,\n",
    "    density,\n",
    "):\n",
    "    '''\n",
    "    Estimate the PSD in accordance with the WRF Morrison double moment scheme. \n",
    "    '''\n",
    "    RHOI  = density\n",
    "    QICE = hydrometeorContent /airDensity\n",
    "    QNICE = hydrometeorNumberConc/airDensity\n",
    "\n",
    "    CI = RHOI*np.pi/6.\n",
    "    DI = 3.0\n",
    "    CONS2  = CI*scipy.special.gamma(1.+DI)\n",
    "    LAMI = (CONS2*QNICE/QICE)**(1./3.)\n",
    "    N0I  = QNICE*LAMI\n",
    "\n",
    "    f = airDensity*N0I * (np.exp(-LAMI*sizeCenter))\n",
    "    return f\n",
    "\n",
    "\n",
    "pam2.describeHydrometeor(\n",
    "    pamtra2.hydrometeors.softEllipsoidFixedDensity,\n",
    "    name = 'ICE', #or None, then str(index)\n",
    "    nBins =50,\n",
    "    sizeBounds = pamtra2.hydrometeors.size.linspaceBounds, \n",
    "    sizeCenter = pamtra2.hydrometeors.size.boundsToMid,\n",
    "    sizeBoundsWidth = pamtra2.hydrometeors.size.boundsWidth,\n",
    "    #add custom function here:\n",
    "    sizeDistribution = WRF_ice_N, \n",
    "    aspectRatio = 1.0,\n",
    "    mass = pamtra2.hydrometeors.mass.ellipsoid,\n",
    "    density = 500,\n",
    "    crossSectionArea = pamtra2.hydrometeors.crossSectionArea.sphere,\n",
    "    relativePermittivity = pamtra2.libs.refractiveIndex.snow.eps, \n",
    "    scattering = pamtra2.hydrometeors.scattering.Rayleigh,\n",
    "    fallVelocity = pamtra2.hydrometeors.fallVelocity.heymsfield10_particles,\n",
    "    Dmin  = 1e-6,\n",
    "    Dmax  = 4.04e-2,\n",
    "    useFuncArgDefaults = True,\n",
    "    matzlerCheckTemperature=False\n",
    ")"
   ]
  },
  {
   "cell_type": "markdown",
   "metadata": {},
   "source": [
    "## snow"
   ]
  },
  {
   "cell_type": "code",
   "execution_count": 10,
   "metadata": {},
   "outputs": [
    {
     "name": "stdout",
     "output_type": "stream",
     "text": [
      "sizeBounds <function linspaceBounds at 0x7f13c6408d90>\n",
      "callable\n",
      "sizeCenter <function boundsToMid at 0x7f13c6408ea0>\n",
      "callable\n",
      "sizeBoundsWidth <function boundsWidth at 0x7f13c6408f28>\n",
      "callable\n",
      "aspectRatio 1.0\n",
      "not callable 1.0\n",
      "density 100\n",
      "not callable 100\n",
      "mass <function ellipsoid at 0x7f13c640d2f0>\n",
      "callable\n",
      "crossSectionArea <function sphere at 0x7f13c640d9d8>\n",
      "callable\n",
      "sizeDistribution <function WRF_snow_N at 0x7f13c183dd08>\n",
      "callable\n",
      "relativePermittivity <function eps at 0x7f13c6676ae8>\n",
      "callable\n",
      "scattering <function Rayleigh at 0x7f13c640de18>\n",
      "callable\n",
      "fallVelocity <function heymsfield10_particles at 0x7f13c640dea0>\n",
      "callable\n",
      "nBins 50\n",
      "not callable 50\n",
      "Dmin 1e-06\n",
      "not callable 1e-06\n",
      "Dmax 0.0404\n",
      "not callable 0.0404\n",
      "matzlerCheckTemperature False\n",
      "not callable False\n"
     ]
    },
    {
     "name": "stderr",
     "output_type": "stream",
     "text": [
      "/home/vagrant/miniconda/lib/python3.6/_collections_abc.py:720: FutureWarning: iteration over an xarray.Dataset will change in xarray v0.11 to only include data variables, not coordinates. Iterate over the Dataset.variables property instead to preserve existing behavior in a forwards compatible manner.\n",
      "  yield from self._mapping\n"
     ]
    },
    {
     "data": {
      "text/plain": [
       "<pamtra2.hydrometeors.core.softEllipsoidFixedDensity at 0x7f13c18510b8>"
      ]
     },
     "execution_count": 10,
     "metadata": {},
     "output_type": "execute_result"
    }
   ],
   "source": [
    "def WRF_snow_N(\n",
    "    sizeCenter,\n",
    "    hydrometeorContent,\n",
    "    hydrometeorNumberConc,\n",
    "    airDensity,\n",
    "    density,\n",
    "):\n",
    "    '''\n",
    "    Estimate the PSD in accordance with the WRF Morrison double moment scheme. \n",
    "    '''\n",
    "    RHOSN  = density\n",
    "    QSNOW = hydrometeorContent /airDensity\n",
    "    QNSNOW = hydrometeorNumberConc/airDensity\n",
    "    \n",
    "    DS = 3.0\n",
    "    CS = RHOSN*np.pi/6.\n",
    "    CONS1  = CS*scipy.special.gamma(1.+DS)\n",
    "    LAMS  = (CONS1*QNSNOW/QSNOW)**(1./3.)\n",
    "    N0S   =   QNSNOW * LAMS\n",
    "    \n",
    "    f = airDensity*N0S * (np.exp(-LAMS*sizeCenter))\n",
    "    return f\n",
    "\n",
    "\n",
    "pam2.describeHydrometeor(\n",
    "    pamtra2.hydrometeors.softEllipsoidFixedDensity,\n",
    "    name = 'SNOW', #or None, then str(index)\n",
    "    nBins =50,\n",
    "    sizeBounds = pamtra2.hydrometeors.size.linspaceBounds, \n",
    "    sizeCenter = pamtra2.hydrometeors.size.boundsToMid,\n",
    "    sizeBoundsWidth = pamtra2.hydrometeors.size.boundsWidth,\n",
    "    #add custom function here:\n",
    "    sizeDistribution = WRF_snow_N, \n",
    "    aspectRatio = 1.0,\n",
    "    mass = pamtra2.hydrometeors.mass.ellipsoid,\n",
    "    density = 100,\n",
    "    crossSectionArea = pamtra2.hydrometeors.crossSectionArea.sphere,\n",
    "    relativePermittivity = pamtra2.libs.refractiveIndex.snow.eps, \n",
    "    scattering = pamtra2.hydrometeors.scattering.Rayleigh,\n",
    "    fallVelocity = pamtra2.hydrometeors.fallVelocity.heymsfield10_particles,\n",
    "    Dmin  = 1e-6,\n",
    "    Dmax  = 4.04e-2,\n",
    "    useFuncArgDefaults = True,\n",
    "    matzlerCheckTemperature=False\n",
    ")"
   ]
  },
  {
   "cell_type": "markdown",
   "metadata": {},
   "source": [
    "plot some size distributions for checking"
   ]
  },
  {
   "cell_type": "code",
   "execution_count": 21,
   "metadata": {},
   "outputs": [
    {
     "data": {
      "text/plain": [
       "(1, 50)"
      ]
     },
     "execution_count": 21,
     "metadata": {},
     "output_type": "execute_result"
    },
    {
     "data": {
      "image/png": "[encoded data removed]",
      "text/plain": [
       "<Figure size 432x288 with 1 Axes>"
      ]
     },
     "metadata": {},
     "output_type": "display_data"
    }
   ],
   "source": [
    "pam2.hydrometeors.SNOW.profile.sizeDistribution[-1,-14].plot()\n",
    "pam2.hydrometeors.ICE.profile.sizeDistribution[-1,-14].plot()\n",
    "plt.loglog()\n",
    "plt.ylim(1e-10,1e2)\n",
    "plt.xlim(1,50)"
   ]
  },
  {
   "cell_type": "markdown",
   "metadata": {},
   "source": [
    "# add simple radar simulator"
   ]
  },
  {
   "cell_type": "code",
   "execution_count": 12,
   "metadata": {},
   "outputs": [
    {
     "name": "stderr",
     "output_type": "stream",
     "text": [
      "/home/vagrant/miniconda/lib/python3.6/site-packages/xarray/core/computation.py:560: RuntimeWarning: divide by zero encountered in log10\n",
      "  result_data = func(*input_data)\n"
     ]
    },
    {
     "data": {
      "text/plain": [
       "<pamtra2.instruments.radar.simpleRadar at 0x7f13becea4e0>"
      ]
     },
     "execution_count": 12,
     "metadata": {},
     "output_type": "execute_result"
    }
   ],
   "source": [
    "\n",
    "pam2.addInstrument(\n",
    "    pamtra2.instruments.radar.simpleRadar,\n",
    "    name = 'simple',\n",
    "    frequencies = 35e9,    \n",
    "        radarK2=0.93,    \n",
    ")"
   ]
  },
  {
   "cell_type": "code",
   "execution_count": 13,
   "metadata": {},
   "outputs": [
    {
     "data": {
      "text/plain": [
       "<matplotlib.collections.QuadMesh at 0x7f13beba67f0>"
      ]
     },
     "execution_count": 13,
     "metadata": {},
     "output_type": "execute_result"
    },
    {
     "data": {
      "image/png": "[encoded data removed]",
      "text/plain": [
       "<Figure size 432x288 with 2 Axes>"
      ]
     },
     "metadata": {},
     "output_type": "display_data"
    }
   ],
   "source": [
    "pam2.instruments.simple.results.radarReflectivity.T.plot(vmin=-50,vmax=20)"
   ]
  }
 ],
 "metadata": {
  "kernelspec": {
   "display_name": "Python 3",
   "language": "python",
   "name": "python3"
  },
  "language_info": {
   "codemirror_mode": {
    "name": "ipython",
    "version": 3
   },
   "file_extension": ".py",
   "mimetype": "text/x-python",
   "name": "python",
   "nbconvert_exporter": "python",
   "pygments_lexer": "ipython3",
   "version": "3.6.5"
  },
  "toc": {
   "base_numbering": 1,
   "nav_menu": {},
   "number_sections": true,
   "sideBar": true,
   "skip_h1_title": false,
   "title_cell": "Table of Contents",
   "title_sidebar": "Contents",
   "toc_cell": false,
   "toc_position": {},
   "toc_section_display": true,
   "toc_window_display": false
  }
 },
 "nbformat": 4,
 "nbformat_minor": 2
}
