{
 "cells": [
  {
   "cell_type": "code",
   "execution_count": null,
   "metadata": {},
   "outputs": [],
   "source": [
    "import collections\n",
    "\n",
    "import xarray as xr\n",
    "import numpy as np\n",
    "import matplotlib.pyplot as plt\n",
    "\n",
    "import pamtra2\n",
    "\n",
    "try:\n",
    "    %matplotlib inline\n",
    "except:\n",
    "    pass\n"
   ]
  },
  {
   "cell_type": "code",
   "execution_count": null,
   "metadata": {},
   "outputs": [],
   "source": [
    "wrfHydrometeors = ['CLOUD','RAIN','ICE','SNOW']#,'GRAUP']\n",
    "\n",
    "wrfRenameDim = {\n",
    "    'bottom_top_stag':'level',\n",
    "    'bottom_top':'layer',\n",
    "    'Time' : 'time',\n",
    "}\n",
    "\n",
    "\n",
    "def linLevel2layer(var):\n",
    "    var= (var.isel(level=np.s_[:-1]) +  0.5 * var.diff('level'))\n",
    "    return var.rename({'level':'layer'})\n",
    "\n",
    "\n",
    "from pamtra2.libs.meteo_si.constants import Rair"
   ]
  },
  {
   "cell_type": "code",
   "execution_count": null,
   "metadata": {
    "scrolled": false
   },
   "outputs": [],
   "source": [
    "!ncdump -h /home/vagrant/shared/data/WRF/Barrow.nc"
   ]
  },
  {
   "cell_type": "code",
   "execution_count": null,
   "metadata": {},
   "outputs": [],
   "source": [
    "wrfDat = xr.open_dataset('/home/vagrant/shared/data/WRF/Barrow.nc')\n",
    "#fix time\n",
    "wrfDat['Time'] = [np.datetime64(str(x).replace('_','T').replace(\"'\",'').replace(\"b\",''))\n",
    "                          for x in wrfDat.Times.values]\n",
    "wrfDat = wrfDat.drop('Times')\n",
    "wrfDat = wrfDat.rename(wrfRenameDim)\n",
    "\n",
    "wrfDat = wrfDat.squeeze()"
   ]
  },
  {
   "cell_type": "code",
   "execution_count": null,
   "metadata": {},
   "outputs": [],
   "source": [
    "additionalDims = collections.OrderedDict()\n",
    "additionalDims['time'] = wrfDat['time'].values\n",
    "nHeights = len(wrfDat.layer)\n",
    "\n",
    "pam2 = pamtra2.pamtra2(\n",
    "    nLayer=nHeights,\n",
    "    hydrometeors=wrfHydrometeors,\n",
    "    additionalDims = additionalDims,\n",
    "    frequencies = [35e9],\n",
    ")\n",
    "\n",
    "\n"
   ]
  },
  {
   "cell_type": "code",
   "execution_count": null,
   "metadata": {},
   "outputs": [],
   "source": [
    "pam2.profile"
   ]
  },
  {
   "cell_type": "code",
   "execution_count": null,
   "metadata": {},
   "outputs": [],
   "source": [
    "\n",
    "heights = linLevel2layer((wrfDat[\"PH\"]+wrfDat[\"PHB\"])/9.81)\n",
    "pressure = (wrfDat[\"P\"] + wrfDat[\"PB\"])\n",
    "\n",
    "\n",
    "Cp = 7.*Rair/2.\n",
    "RdCp =  Rair/Cp\n",
    "p0 = 100000\n",
    "T0 = wrfDat[\"T00\"]\n",
    "temperature = (wrfDat[\"T\"] + T0)*(pressure/p0)**RdCp # potential temp to temp\n",
    "temperature = temperature\n",
    "\n",
    "horizontalWind = np.sqrt(wrfDat.V**2 + wrfDat.U**2)\n",
    "\n",
    "mixingRatio = wrfDat.QVAPOR\n",
    "specHum = mixingRatio/(1+mixingRatio)\n",
    "relHum = pamtra2.libs.meteo_si.humidity.q2rh(specHum,temperature,pressure) * 100\n",
    "\n",
    "pam2.profile.height[:] = heights\n",
    "pam2.profile.temperature[:] = temperature\n",
    "pam2.profile.relativeHumidity[:] = relHum # hardly relevant for radar simulator...\n",
    "pam2.profile.pressure[:] = pressure\n",
    "pam2.profile.eddyDissipationRate[:] = 1e-4 # not included in model output, \n",
    "pam2.profile.horizontalWind[:] =horizontalWind\n",
    "\n",
    "pam2.addAirDensity()\n",
    "\n",
    "pam2.profile['hydrometeorNumberConc'] = xr.zeros_like(pam2.profile.hydrometeorContent)\n",
    "\n",
    "for hh, hydro in enumerate(wrfHydrometeors):\n",
    "    \n",
    "    pam2.profile.hydrometeorContent.values[...,hh] = wrfDat['Q%s'%hydro] * pam2.profile.airDensity\n",
    "    if hydro not in ['CLOUD','GRAUP']:\n",
    "        pam2.profile.hydrometeorNumberConc.values[...,hh] = wrfDat['QN%s'%hydro] * pam2.profile.airDensity\n",
    "    elif hydro == 'CLOUD':\n",
    "        cond = wrfDat['Q%s'%hydro]>0\n",
    "        pam2.profile.hydrometeorNumberConc.values[cond,hh] = 2.5e8\n",
    "\n",
    "pam2.addMissingVariables()\n",
    "\n",
    "\n",
    "pam2.profile\n"
   ]
  },
  {
   "cell_type": "code",
   "execution_count": null,
   "metadata": {},
   "outputs": [],
   "source": [
    "\n",
    "pam2.describeHydrometeor(\n",
    "    pamtra2.hydrometeors.cloudDroplet,\n",
    "    name = 'CLOUD',\n",
    "    nBins =201,\n",
    "    sizeDistribution = pamtra2.hydrometeors.sizeDistribution.exponentialN0WC, \n",
    "    scattering = pamtra2.hydrometeors.scattering.Mie,\n",
    "    Dmin  = 1e-6,\n",
    "    Dmax  = 4.04e-2,\n",
    "    N0 =  8e6,\n",
    "    useFuncArgDefaults = True,\n",
    ")\n",
    "\n"
   ]
  },
  {
   "cell_type": "code",
   "execution_count": null,
   "metadata": {},
   "outputs": [],
   "source": [
    "  data[\"PH\"] = (data[\"PH\"]+data[\"PHB\"])/9.81 #now \"real m\n",
    "  del data[\"PHB\"]\n",
    "\n",
    "  data[\"P\"] = data[\"P\"]+data[\"PB\"] # now in Pa\n",
    "  del data[\"PB\"]\n",
    "\n",
    "  Cp = 7.*Rair/2.\n",
    "  RdCp =  Rair/Cp\n",
    "  p0 = 100000\n",
    "  data[\"T\"] = data[\"T\"] + 300 # now in K\n",
    "  data[\"T\"] = data[\"T\"]*(data[\"P\"]/p0)**RdCp # potential temp to temp\n",
    "\n",
    "  #add surface data\n",
    "  data[\"TSK\"] = data[\"TSK\"].reshape(np.append(list(np.shape(data[\"TSK\"])),1))\n",
    "  data[\"PSFC\"] = data[\"PSFC\"].reshape(np.append(list(np.shape(data[\"PSFC\"])),1))\n"
   ]
  },
  {
   "cell_type": "code",
   "execution_count": null,
   "metadata": {},
   "outputs": [],
   "source": [
    "pamtra2.hydrometeors.cloudDroplet?"
   ]
  },
  {
   "cell_type": "code",
   "execution_count": null,
   "metadata": {},
   "outputs": [],
   "source": [
    "wrfDat.QCLOUD\n"
   ]
  },
  {
   "cell_type": "code",
   "execution_count": null,
   "metadata": {},
   "outputs": [],
   "source": []
  },
  {
   "cell_type": "code",
   "execution_count": null,
   "metadata": {},
   "outputs": [],
   "source": [
    "mixingRatio = wrfDat.QVAPOR\n",
    "specHum = mixingRatio/(1+mixingRatio)\n",
    "relHum = pamtra2.libs.meteo_si.humidity.q2rh(specHum,temperature,pressure)\n",
    "\n"
   ]
  },
  {
   "cell_type": "code",
   "execution_count": null,
   "metadata": {},
   "outputs": [],
   "source": [
    "temperature.plot()"
   ]
  },
  {
   "cell_type": "code",
   "execution_count": null,
   "metadata": {},
   "outputs": [],
   "source": [
    "specHum.plot()"
   ]
  },
  {
   "cell_type": "code",
   "execution_count": null,
   "metadata": {},
   "outputs": [],
   "source": [
    "pam2.profile.hydrometeorContent.sum('hydrometeor').plot()"
   ]
  },
  {
   "cell_type": "code",
   "execution_count": null,
   "metadata": {},
   "outputs": [],
   "source": [
    "temperature.plot()"
   ]
  },
  {
   "cell_type": "code",
   "execution_count": null,
   "metadata": {},
   "outputs": [],
   "source": []
  }
 ],
 "metadata": {
  "kernelspec": {
   "display_name": "Python 3",
   "language": "python",
   "name": "python3"
  },
  "language_info": {
   "codemirror_mode": {
    "name": "ipython",
    "version": 3
   },
   "file_extension": ".py",
   "mimetype": "text/x-python",
   "name": "python",
   "nbconvert_exporter": "python",
   "pygments_lexer": "ipython3",
   "version": "3.6.5"
  }
 },
 "nbformat": 4,
 "nbformat_minor": 2
}
